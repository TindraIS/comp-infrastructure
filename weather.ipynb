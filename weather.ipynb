{
 "cells": [
  {
   "cell_type": "markdown",
   "metadata": {},
   "source": [
    "# Completion notes"
   ]
  },
  {
   "cell_type": "markdown",
   "metadata": {},
   "source": [
    "## "
   ]
  },
  {
   "cell_type": "markdown",
   "metadata": {},
   "source": [
    "## Task 1"
   ]
  },
  {
   "cell_type": "markdown",
   "metadata": {},
   "source": [
    "- Using Codespaces, I have navigated to `main` and with the `mkdir` command created the directory _data_ and, after using `cd` command to navigate to data, created the subdirectories _data/weather_ and _data/timestamps_.\n",
    "- As Git does not include empty directories in commits, a _.gitkeep_ file was created in each directory using the `touch` command, to ensure Git would recognise them.\n",
    "- Also using the `touch` command the present file has been created.\n",
    "- The new changes where then commited and pushed to GitHub using the below commands:\n",
    "    - `git add .` to update the index \n",
    "    - `git commit -m` to [record changes](https://git-scm.com/docs/git-commit) to the repository with a log message describing the new contents.\n",
    "    - `git push` to [upload the changes](https://git-scm.com/docs/git-push) to GitHub."
   ]
  },
  {
   "cell_type": "markdown",
   "metadata": {},
   "source": [
    "### End"
   ]
  }
 ],
 "metadata": {
  "language_info": {
   "name": "python"
  }
 },
 "nbformat": 4,
 "nbformat_minor": 2
}
