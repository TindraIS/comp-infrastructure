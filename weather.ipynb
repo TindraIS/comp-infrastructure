{
 "cells": [
  {
   "cell_type": "markdown",
   "metadata": {},
   "source": [
    "# Completion notes"
   ]
  },
  {
   "cell_type": "markdown",
   "metadata": {},
   "source": [
    "## "
   ]
  },
  {
   "cell_type": "markdown",
   "metadata": {},
   "source": [
    "## Task 1"
   ]
  },
  {
   "cell_type": "markdown",
   "metadata": {},
   "source": [
    "- Using Codespaces, I have navigated to **main** and with the `mkdir` command, created the directory _data_ and, after using `cd` command to navigate to the new directory, created the subdirectories _data/weather_ and _data/timestamps_.\n",
    "\n",
    "- As Git does not include empty directories in commits, a _.gitkeep_ file was created in each directory using the `touch` command, [to ensure Git would recognise them](https://www.theserverside.com/blog/Coffee-Talk-Java-News-Stories-and-Opinions/gitkeep-push-empty-folders-git-commit).\n",
    "\n",
    "- Also using the `touch` command the present file has been created.\n",
    "\n",
    "- The new changes where then commited and pushed to GitHub using the below commands:\n",
    "    - `git add .` to update the index \n",
    "    - `git commit -m` to [record changes](https://git-scm.com/docs/git-commit) to the repository with a log message describing the new contents.\n",
    "    - `git push` to [upload the changes](https://git-scm.com/docs/git-push) to GitHub."
   ]
  },
  {
   "cell_type": "markdown",
   "metadata": {},
   "source": [
    "## Task 2"
   ]
  },
  {
   "cell_type": "markdown",
   "metadata": {},
   "source": [
    "- Using Codespaces, I have navigated to the data/timestamps directory using the `cd` command in the terminal. \n",
    "\n",
    "- Created now.txt and appended the current date and time using the date >> now.tx command.\n",
    "\n",
    "- Repeated the above command ten more times with a [_for loop_](https://www.tecmint.com/run-linux-command-multiple-times/): `for counter in {1..10}; do date >> now.txt; done`\n",
    "\n",
    "- Used the `more` command to verify that now.txt had the [expected content](https://www.baeldung.com/linux/files-cat-more-less)."
   ]
  },
  {
   "cell_type": "markdown",
   "metadata": {},
   "source": [
    "## Task 3"
   ]
  },
  {
   "cell_type": "markdown",
   "metadata": {},
   "source": [
    "- Ran the `date` command with the [YYYmmdd_HHMMSS format](https://www.cyberciti.biz/faq/linux-unix-formatting-dates-for-display/): `date +\"%Y%m%d_%H%M%S\"`\n",
    "\n",
    "- Appended the above output to a file named formatted.txt using the `>>` [operator](https://www.cyberciti.biz/faq/linux-append-text-to-end-of-file/)\n",
    "\n",
    "- Verified the file content with the `cat` command: `cat formatted.txt`"
   ]
  },
  {
   "cell_type": "markdown",
   "metadata": {},
   "source": [
    "## Task 4"
   ]
  },
  {
   "cell_type": "markdown",
   "metadata": {},
   "source": [
    "- A new file was created using the `touch` and ` date` commands: **touch &#96;date +\"%Y%m%d_%H%M%S.txt\"&#96;**\n",
    "As the date command is in backticks, [the output is stored in a variable](https://linuxopsys.com/bash-backticks-vs-dollar-parentheses) which means the backticks the second command's action depends upon the first one.\n",
    "\n",
    "- Used the `ls -Artls | tail -1` command to [verify the file had been created and that the time stamp was correct](https://www.baeldung.com/linux/get-recent-file-in-directory).b"
   ]
  },
  {
   "cell_type": "markdown",
   "metadata": {},
   "source": [
    "## Task 5"
   ]
  },
  {
   "cell_type": "markdown",
   "metadata": {},
   "source": [
    "- Ensure we are in the correct directory with the `cd data/weather` command.\n",
    "\n",
    "- Then used `wget -O weather.json https://prodapi.metweb.ie/observations/athenry/today` to save the output in a file. This command is used to [download content from the world wide web (hence the command name)](https://www.geeksforgeeks.org/wget-command-in-linux-unix/) and its synthax supports several options. The -O option was used to specify the filename, as the default name is the last part of the URL.\n",
    "\n",
    "- To confirm that the content of the saved file matches exactly the data fetched from Met Éireann's API endpoint, the following command was used: ` curl -s https://prodapi.metweb.ie/observations/athenry/today | diff - weather.json`. \n",
    "    - `curl` is used for transferring data from the URLs combined with -s option to switch off the progress meter output and only show the actual data retrieved.\n",
    "    - The `|` takes the output from the curl command and feeds it as input into the diff command.\n",
    "    - The `diff` command compares two outputs and shows the differences - if any. Using a dash (-) in place of a filename tells diff to read the data piped in from curl.\n",
    "\n",
    "<sup>References: \n",
    "<br>[1] [Comparing Files and Folders in Linux using diff command](https://medium.com/itversity/comparing-files-and-folders-in-linux-using-diff-command-c2177fd80852) \n",
    "<br>[2] [Unix and Linux StackExchange](https://unix.stackexchange.com/questions/11733/how-to-diff-a-file-and-output-from-the-command)\n",
    "<br>[3] [cURL man page](https://curl.se/docs/manpage.html)\n",
    "<br>[4] [diff Command in Linux](https://phoenixnap.com/kb/linux-diff)\n",
    "<br>[5] [ExplainShell](https://explainshell.com/explain/1/curl)\n",
    "</sup>"
   ]
  },
  {
   "cell_type": "markdown",
   "metadata": {},
   "source": []
  },
  {
   "cell_type": "markdown",
   "metadata": {},
   "source": []
  },
  {
   "cell_type": "markdown",
   "metadata": {},
   "source": [
    "---"
   ]
  },
  {
   "cell_type": "markdown",
   "metadata": {},
   "source": [
    "### End"
   ]
  }
 ],
 "metadata": {
  "language_info": {
   "name": "python"
  }
 },
 "nbformat": 4,
 "nbformat_minor": 2
}
