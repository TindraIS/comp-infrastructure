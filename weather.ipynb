{
 "cells": [
  {
   "cell_type": "markdown",
   "metadata": {},
   "source": [
    "# Execution notes"
   ]
  },
  {
   "cell_type": "markdown",
   "metadata": {},
   "source": [
    "## Task 1"
   ]
  },
  {
   "cell_type": "markdown",
   "metadata": {},
   "source": [
    "- Using Codespaces, I have navigated to **main** and with the `mkdir` command, created the directory _data_ and, after using `cd` command to navigate to the new directory, created the subdirectories _data/weather_ and _data/timestamps_.\n",
    "\n",
    "- As Git does not include empty directories in commits, a _.gitkeep_ file was created in each directory using the `touch` command, [to ensure Git would recognise them](https://www.theserverside.com/blog/Coffee-Talk-Java-News-Stories-and-Opinions/gitkeep-push-empty-folders-git-commit).\n",
    "\n",
    "- Also using the `touch` command the present file has been created.\n",
    "\n",
    "- The new changes where then commited and pushed to GitHub using the below commands:\n",
    "    - `git add .` to update the index \n",
    "    - `git commit -m` to [record changes](https://git-scm.com/docs/git-commit) to the repository with a log message describing the new contents.\n",
    "    - `git push` to [upload the changes](https://git-scm.com/docs/git-push) to GitHub."
   ]
  },
  {
   "cell_type": "markdown",
   "metadata": {},
   "source": [
    "## Task 2"
   ]
  },
  {
   "cell_type": "markdown",
   "metadata": {},
   "source": [
    "- Using Codespaces, I have navigated to the data/timestamps directory using the `cd` command in the terminal. \n",
    "\n",
    "- Created now.txt and appended the current date and time using the date >> now.tx command.\n",
    "\n",
    "- Repeated the above command ten more times with a [_for loop_](https://www.tecmint.com/run-linux-command-multiple-times/): `for counter in {1..10}; do date >> now.txt; done`\n",
    "\n",
    "- Used the `more` command to verify that now.txt had the [expected content](https://www.baeldung.com/linux/files-cat-more-less)."
   ]
  },
  {
   "cell_type": "markdown",
   "metadata": {},
   "source": [
    "## Task 3"
   ]
  },
  {
   "cell_type": "markdown",
   "metadata": {},
   "source": [
    "- Ran the `date` command with the [YYYmmdd_HHMMSS format](https://www.cyberciti.biz/faq/linux-unix-formatting-dates-for-display/): `date +\"%Y%m%d_%H%M%S\"`\n",
    "\n",
    "- Appended the above output to a file named formatted.txt using the `>>` [operator](https://www.cyberciti.biz/faq/linux-append-text-to-end-of-file/)\n",
    "\n",
    "- Verified the file content with the `cat` command: `cat formatted.txt`"
   ]
  },
  {
   "cell_type": "markdown",
   "metadata": {},
   "source": [
    "## Task 4"
   ]
  },
  {
   "cell_type": "markdown",
   "metadata": {},
   "source": [
    "- A new file was created using the `touch` and ` date` commands: **touch &#96;date +\"%Y%m%d_%H%M%S.txt\"&#96;**\n",
    "As the date command is in backticks, [the output is stored in a variable](https://linuxopsys.com/bash-backticks-vs-dollar-parentheses) which means the backticks the second command's action depends upon the first one.\n",
    "\n",
    "- Used the `ls -Artls | tail -1` command to [verify the file had been created and that the time stamp was correct](https://www.baeldung.com/linux/get-recent-file-in-directory).b"
   ]
  },
  {
   "cell_type": "markdown",
   "metadata": {},
   "source": [
    "## Task 5"
   ]
  },
  {
   "cell_type": "markdown",
   "metadata": {},
   "source": [
    "- Ensured we are in the correct directory with the `cd data/weather` command.\n",
    "\n",
    "- Then used `wget -O weather.json https://prodapi.metweb.ie/observations/athenry/today` to save the output in a file. This command is used to [download content from the world wide web (hence the command name)](https://www.geeksforgeeks.org/wget-command-in-linux-unix/) and its synthax supports several options. The -O option was used to specify the filename, as the default name is the last part of the URL.\n",
    "\n",
    "- To confirm that the content of the saved file matches exactly the data fetched from Met Éireann's API endpoint, the following command was used: ` curl -s https://prodapi.metweb.ie/observations/athenry/today | diff - weather.json`. \n",
    "    - `curl` is used for transferring data from the URLs combined with -s option to switch off the progress meter output and only show the actual data retrieved.\n",
    "    - The `|` takes the output from the curl command and feeds it as input into the diff command.\n",
    "    - The `diff` command compares two outputs and shows the differences - if any. Using a dash (-) in place of a filename tells diff to read the data piped in from curl.\n",
    "\n",
    "<sup>References: \n",
    "<br>[1] [Comparing Files and Folders in Linux using diff command](https://medium.com/itversity/comparing-files-and-folders-in-linux-using-diff-command-c2177fd80852) \n",
    "<br>[2] [Unix and Linux StackExchange](https://unix.stackexchange.com/questions/11733/how-to-diff-a-file-and-output-from-the-command)\n",
    "<br>[3] [cURL man page](https://curl.se/docs/manpage.html)\n",
    "<br>[4] [diff Command in Linux](https://phoenixnap.com/kb/linux-diff)\n",
    "<br>[5] [ExplainShell](https://explainshell.com/explain/1/curl)\n",
    "</sup>"
   ]
  },
  {
   "cell_type": "markdown",
   "metadata": {},
   "source": [
    "## Task 6"
   ]
  },
  {
   "cell_type": "markdown",
   "metadata": {},
   "source": [
    "- In order to save the downloaded file from task 5 with a timestamped name in the format YYYYmmdd_HHMMSS.json, the following command was used: **wget -O &#96;date +\"%Y%m%d_%H%M%S.json\"&#96; https://prodapi.metweb.ie/observations/athenry/today**\n",
    "\n",
    "- The `ls` command was executed to list the files and retrieve the timestamped filename. The following command was then used to verify if the file contained valid JSON data with the `file=\"20241213_233614.json\" && jq . \"$file\" > /dev/null && echo \"$file is valid.\" || echo \"$file is invalid.\"`:\n",
    "    - `jq` allows to parse, filter, and transform JSON data and the `.` option takes the input and produces it unchanged as the output.\n",
    "    - The `> /dev/null` command ensures the JSON file isn't displayed in the terminal.\n",
    "    - The `&& echo \"$file is valid.\" || echo \"$file is invalid.\"`  construct displays one message or (||) the other in the terminal, depending on whther the JSON parsing by jq is successfull or not. Given it is not feasible to manually check the terminal for errors or printed JSON data when parsing files when automating workflows,  validity tests like this should be used to automate error detection and notify if something goes wrong.\n",
    "\n",
    "\n",
    "<sup>References: \n",
    "<br>[1] [StackExchange](https://unix.stackexchange.com/questions/581240/what-is-the-use-of-script-2-dev-null-in-the-following-script#:~:text=So%2C%202%3E%20%2Fdev%2F,link%20CC%20BY%2DSA%204.0)\n",
    "<br>[2] [jq Command JSON](https://www.baeldung.com/linux/jq-command-json)\n",
    "<br>[3] [jq man page](https://linuxcommandlibrary.com/man/jq)\n",
    "<br>[4] [What is /Dev/Null in Linux?](https://www.geeksforgeeks.org/what-is-dev-null-in-linux/)\n",
    "</sup>"
   ]
  },
  {
   "cell_type": "markdown",
   "metadata": {},
   "source": [
    "## Task 7"
   ]
  },
  {
   "cell_type": "markdown",
   "metadata": {},
   "source": [
    "1. Executed the `nano` command to create a new file named weather.sh. If the file existed in the current directory, it would be opened for editing, however as it doesn’t [a new file is created](https://ioflood.com/blog/nano-linux-command/#:~:text=To%20use%20the%20nano%20command,will%20create%20it%20for%20you.).\n",
    "1. Next, using [this article](https://ultahost.com/knowledge-base/create-bash-script/) as a guide, the file was edited with the below bash script:"
   ]
  },
  {
   "cell_type": "markdown",
   "metadata": {
    "vscode": {
     "languageId": "plaintext"
    }
   },
   "source": [
    "```bash\n",
    "# Shebang line that specifies the path to the interpreter that should be used to execute the script\n",
    "#!/bin/bash\n",
    "\n",
    "# Create variables for the output directory, log file, filename, path, and weather data URL\n",
    "output_dir=\"data/weather\"\n",
    "log_file=\"weather.log\" \n",
    "filename=\"$(date +%Y%m%d_%H%M%S).json\"\n",
    "output_file=\"$output_dir/$filename\"\n",
    "weather_url=\"https://prodapi.metweb.ie/observations/athenry/today\"\n",
    "\n",
    "# Ensure the output directory exists\n",
    "mkdir -p \"$output_dir\"\n",
    "\n",
    "# Log the start of the download\n",
    "echo -e \"\\n--------------------------------------------------------------\" >> \"$log_file\"\n",
    "echo \"$(date) [INFO]: Fetching weather data from Met Eireann API endpoint\" >> \"$log_file\"\n",
    "\n",
    "# Fetch the weather data and save it with the timestamped filename\n",
    "if wget -O \"$output_file\" \"$weather_url\" >> \"$log_file\" 2>&1; then\n",
    "    echo \"$(date) [INFO]: Successfully downloaded $filename\" >> \"$log_file\"\n",
    "else\n",
    "    echo \"$(date) [ERROR]: Failed to download weather data from $weather_url. Check the URL or network connection.\" >> \"$log_file\"\n",
    "    exit 1\n",
    "fi\n",
    "\n",
    "# Validate the JSON data and remove the newly created file if data isn't valid\n",
    "if jq . \"$output_file\" > /dev/null 2>&1; then\n",
    "    echo \"$(date) [INFO]: $filename is valid.\" >> \"$log_file\"\n",
    "    echo \"$filename is valid.\"\n",
    "else\n",
    "    echo \"$(date) [ERROR]: $filename is invalid. Removing file.\" >> \"$log_file\"\n",
    "    rm -f \"$output_file\"\n",
    "    echo \"$filename is invalid.\"\n",
    "fi\n",
    "``` "
   ]
  },
  {
   "cell_type": "markdown",
   "metadata": {},
   "source": [
    "3. The process from task 6 was slightly modified to include a log file and email notification whenever an error occurs.\n",
    "\n",
    "    **3.1 Log file**\n",
    "    \n",
    "    The log file can be [useful for troubleshooting and debugging](https://www.squash.io/ensuring-bash-scripts-continue-after-error-in-linux/). By logging errors, details about the error can be captured, such as the command that failed, the error message, and any relevant context -- information that can then be used to diagnose and fix the issue. Additionally, [severity levels were included in each log](https://betterstack.com/community/guides/logging/log-levels-explained/) to categorise entries based on their impact or urgency.\n",
    "\n",
    "    **3.2 Email notification**\n",
    "\n",
    "    The [email notification](https://mailtrap.io/blog/python-send-html-email/) is contained within a function that runs the `send_error_email.py` program, which is triggered everytime an error occurs. This Python script uses the native`smtp` (Simple Mail Transfer Protocol) and `email` modules that when combined provide the fundamental foundation for sending HTML emails directly from Python. \n",
    "\n",
    "    [The MIMEText (Multipurpose Internet Mail Extensions) class](https://docs.python.org/3/library/email.mime.html) has also been added so that HTML and CSS can be combined with plain text. Specifically, it is used to construct a MIME (Multipurpose Internet Mail Extensions) email message which ensures the email body is encoded as plain text and includes the necessary headers for proper delivery.\n",
    "\n",
    "    Since sensitive data like SMTP credentials (email and app password) should not be uploaded to GitHub, the following steps were taken to securely manage these constants:\n",
    "\n",
    "    - An App Password was created using my personal Google Account\n",
    "    - A .env file was created to securely store sensitive information using `nano .env`. This file was created so that the script can be mannually triggered, however it will be deleted once the workflow automation is in place. For that purpose, the sensitive variables were also added as environment variables into the GitHub Actions workflow for the project automation.\n",
    "\n",
    "    \n",
    "4. To make the Bash script executable, the `chmod +x` command followed by the script name was ran. This command is used to [change the permissions of files and directories in linux](https://www.howtogeek.com/437958/how-to-use-the-chmod-command-on-linux/). As for the +x , it makes the file executable for all users, enabling us ou to run it as a script.\n",
    "\n",
    "1. As the final step, the script was ran using the command `./weather.sh`. The ./ notation tells the shell to execute the script in the current directory.\n",
    "\n",
    "<sup>Other References: \n",
    "<br>[1] [How to Write a Bash Script: A Simple Bash Scripting Tutorial](https://www.datacamp.com/tutorial/how-to-write-bash-script-tutorial)\n",
    "<br>[2] [A Step-by-Step Guide to Creating a Bash Script in Linux](https://nowitsanurag.medium.com/a-step-by-step-guide-to-creating-a-bash-script-in-linux-b2bc02e892d)\n",
    "<br>[3] [How to Create a Bash Script: Step-by-Step Guide](https://ultahost.com/knowledge-base/create-bash-script/)\n",
    "<br>[4] [StackOverflow](https://stackoverflow.com/questions/18460186/writing-outputs-to-log-file-and-console)\n",
    "<br>[5] [Log Monitoring and Analysis using Bash Script: Step-By-Step Guide\n",
    "](https://medium.com/@janmesh.js/log-monitoring-and-analysis-using-bash-script-step-by-step-guide-4d2a9ccb0bdf)\n",
    "<br>[6] [Log Levels Explained](https://betterstack.com/community/guides/logging/log-levels-explained/)\n",
    "<br>[7] [Sending Emails with Python Using the ‘smtplib’ Library](https://medium.com/@thakuravnish2313/sending-emails-with-python-using-the-smtplib-library-e5db3a8ce69a)\n",
    "</sup>"
   ]
  },
  {
   "cell_type": "markdown",
   "metadata": {},
   "source": [
    "---"
   ]
  },
  {
   "cell_type": "markdown",
   "metadata": {},
   "source": [
    "### End"
   ]
  }
 ],
 "metadata": {
  "language_info": {
   "name": "python"
  }
 },
 "nbformat": 4,
 "nbformat_minor": 2
}
