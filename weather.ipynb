{
 "cells": [
  {
   "cell_type": "markdown",
   "metadata": {},
   "source": [
    "# Completion notes"
   ]
  },
  {
   "cell_type": "markdown",
   "metadata": {},
   "source": [
    "## "
   ]
  },
  {
   "cell_type": "markdown",
   "metadata": {},
   "source": [
    "## Task 1"
   ]
  },
  {
   "cell_type": "markdown",
   "metadata": {},
   "source": [
    "- Using Codespaces, I have navigated to **main** and with the `mkdir` command, created the directory _data_ and, after using `cd` command to navigate to the new directory, created the subdirectories _data/weather_ and _data/timestamps_.\n",
    "\n",
    "- As Git does not include empty directories in commits, a _.gitkeep_ file was created in each directory using the `touch` command, [to ensure Git would recognise them](https://www.theserverside.com/blog/Coffee-Talk-Java-News-Stories-and-Opinions/gitkeep-push-empty-folders-git-commit).\n",
    "\n",
    "- Also using the `touch` command the present file has been created.\n",
    "\n",
    "- The new changes where then commited and pushed to GitHub using the below commands:\n",
    "    - `git add .` to update the index \n",
    "    - `git commit -m` to [record changes](https://git-scm.com/docs/git-commit) to the repository with a log message describing the new contents.\n",
    "    - `git push` to [upload the changes](https://git-scm.com/docs/git-push) to GitHub."
   ]
  },
  {
   "cell_type": "markdown",
   "metadata": {},
   "source": [
    "## Task 2"
   ]
  },
  {
   "cell_type": "markdown",
   "metadata": {},
   "source": [
    "- Using Codespaces, I have navigated to the data/timestamps directory using the `cd` command in the terminal. \n",
    "\n",
    "- Created now.txt and appended the current date and time using the date >> now.tx command.\n",
    "\n",
    "- Repeated the above command ten more times with a [_for loop_](https://www.tecmint.com/run-linux-command-multiple-times/): `for counter in {1..10}; do date >> now.txt; done`\n",
    "\n",
    "- Used the `more` command to verify that now.txt had the [expected content](https://www.baeldung.com/linux/files-cat-more-less)."
   ]
  },
  {
   "cell_type": "markdown",
   "metadata": {},
   "source": [
    "## Task 3"
   ]
  },
  {
   "cell_type": "markdown",
   "metadata": {},
   "source": [
    "- Ran the `date` command with the [YYYmmdd_HHMMSS format](https://www.cyberciti.biz/faq/linux-unix-formatting-dates-for-display/): `date +\"%Y%m%d_%H%M%S\"`\n",
    "\n",
    "- Appended the above output to a file named formatted.txt using the `>>` [operator](https://www.cyberciti.biz/faq/linux-append-text-to-end-of-file/)\n",
    "\n",
    "- Verified the file content with the `cat` command: `cat formatted.txt`"
   ]
  },
  {
   "cell_type": "markdown",
   "metadata": {},
   "source": [
    "---"
   ]
  },
  {
   "cell_type": "markdown",
   "metadata": {},
   "source": [
    "### End"
   ]
  }
 ],
 "metadata": {
  "language_info": {
   "name": "python"
  }
 },
 "nbformat": 4,
 "nbformat_minor": 2
}
