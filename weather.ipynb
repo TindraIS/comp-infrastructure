{
 "cells": [
  {
   "cell_type": "markdown",
   "metadata": {},
   "source": [
    "# Execution notes"
   ]
  },
  {
   "cell_type": "markdown",
   "metadata": {},
   "source": [
    "## Task 1"
   ]
  },
  {
   "cell_type": "markdown",
   "metadata": {},
   "source": [
    "- Using Codespaces, I have navigated to **main** and with the `mkdir` command, created the directory _data_ and, after using `cd` command to navigate to the new directory, created the subdirectories _data/weather_ and _data/timestamps_.\n",
    "\n",
    "- As Git does not include empty directories in commits, a _.gitkeep_ file was created in each directory using the `touch` command, [to ensure Git would recognise them](https://www.theserverside.com/blog/Coffee-Talk-Java-News-Stories-and-Opinions/gitkeep-push-empty-folders-git-commit).\n",
    "\n",
    "- Also using the `touch` command the present file has been created.\n",
    "\n",
    "- The new changes where then commited and pushed to GitHub using the below commands:\n",
    "    - `git add .` to update the index \n",
    "    - `git commit -m` to [record changes](https://git-scm.com/docs/git-commit) to the repository with a log message describing the new contents.\n",
    "    - `git push` to [upload the changes](https://git-scm.com/docs/git-push) to GitHub."
   ]
  },
  {
   "cell_type": "markdown",
   "metadata": {},
   "source": [
    "## Task 2"
   ]
  },
  {
   "cell_type": "markdown",
   "metadata": {},
   "source": [
    "- Using Codespaces, I have navigated to the data/timestamps directory using the `cd` command in the terminal. \n",
    "\n",
    "- Created now.txt and appended the current date and time using the date >> now.tx command.\n",
    "\n",
    "- Repeated the above command ten more times with a [_for loop_](https://www.tecmint.com/run-linux-command-multiple-times/): `for counter in {1..10}; do date >> now.txt; done`\n",
    "\n",
    "- Used the `more` command to verify that now.txt had the [expected content](https://www.baeldung.com/linux/files-cat-more-less)."
   ]
  },
  {
   "cell_type": "markdown",
   "metadata": {},
   "source": [
    "## Task 3"
   ]
  },
  {
   "cell_type": "markdown",
   "metadata": {},
   "source": [
    "- Ran the `date` command with the [YYYmmdd_HHMMSS format](https://www.cyberciti.biz/faq/linux-unix-formatting-dates-for-display/): `date +\"%Y%m%d_%H%M%S\"`\n",
    "\n",
    "- Appended the above output to a file named formatted.txt using the `>>` [operator](https://www.cyberciti.biz/faq/linux-append-text-to-end-of-file/)\n",
    "\n",
    "- Verified the file content with the `cat` command: `cat formatted.txt`"
   ]
  },
  {
   "cell_type": "markdown",
   "metadata": {},
   "source": [
    "## Task 4"
   ]
  },
  {
   "cell_type": "markdown",
   "metadata": {},
   "source": [
    "- A new file was created using the `touch` and ` date` commands: **touch &#96;date +\"%Y%m%d_%H%M%S.txt\"&#96;**\n",
    "As the date command is in backticks, [the output is stored in a variable](https://linuxopsys.com/bash-backticks-vs-dollar-parentheses) which means the backticks the second command's action depends upon the first one.\n",
    "\n",
    "- Used the `ls -Artls | tail -1` command to [verify the file had been created and that the time stamp was correct](https://www.baeldung.com/linux/get-recent-file-in-directory).b"
   ]
  },
  {
   "cell_type": "markdown",
   "metadata": {},
   "source": [
    "## Task 5"
   ]
  },
  {
   "cell_type": "markdown",
   "metadata": {},
   "source": [
    "- Ensured we are in the correct directory with the `cd data/weather` command.\n",
    "\n",
    "- Then used `wget -O weather.json https://prodapi.metweb.ie/observations/athenry/today` to save the output in a file. This command is used to [download content from the world wide web (hence the command name)](https://www.geeksforgeeks.org/wget-command-in-linux-unix/) and its synthax supports several options. The -O option was used to specify the filename, as the default name is the last part of the URL.\n",
    "\n",
    "- To confirm that the content of the saved file matches exactly the data fetched from Met Éireann's API endpoint, the following command was used: ` curl -s https://prodapi.metweb.ie/observations/athenry/today | diff - weather.json`. \n",
    "    - `curl` is used for transferring data from the URLs combined with -s option to switch off the progress meter output and only show the actual data retrieved.\n",
    "    - The `|` takes the output from the curl command and feeds it as input into the diff command.\n",
    "    - The `diff` command compares two outputs and shows the differences - if any. Using a dash (-) in place of a filename tells diff to read the data piped in from curl.\n",
    "\n",
    "<sup>References: \n",
    "<br>[1] [Comparing Files and Folders in Linux using diff command](https://medium.com/itversity/comparing-files-and-folders-in-linux-using-diff-command-c2177fd80852) \n",
    "<br>[2] [Unix and Linux StackExchange](https://unix.stackexchange.com/questions/11733/how-to-diff-a-file-and-output-from-the-command)\n",
    "<br>[3] [cURL man page](https://curl.se/docs/manpage.html)\n",
    "<br>[4] [diff Command in Linux](https://phoenixnap.com/kb/linux-diff)\n",
    "<br>[5] [ExplainShell](https://explainshell.com/explain/1/curl)\n",
    "</sup>"
   ]
  },
  {
   "cell_type": "markdown",
   "metadata": {},
   "source": [
    "## Task 6"
   ]
  },
  {
   "cell_type": "markdown",
   "metadata": {},
   "source": [
    "- In order to save the downloaded file from task 5 with a timestamped name in the format YYYYmmdd_HHMMSS.json, the following command was used: **wget -O &#96;date +\"%Y%m%d_%H%M%S.json\"&#96; https://prodapi.metweb.ie/observations/athenry/today**\n",
    "\n",
    "- The `ls` command was executed to list the files and retrieve the timestamped filename. The following command was then used to verify if the file contained valid JSON data with the `file=\"20241213_233614.json\" && jq . \"$file\" > /dev/null && echo \"$file is valid.\" || echo \"$file is invalid.\"`:\n",
    "    - `jq` allows to parse, filter, and transform JSON data and the `.` option takes the input and produces it unchanged as the output.\n",
    "    - The `> /dev/null` command ensures the JSON file isn't displayed in the terminal.\n",
    "    - The `&& echo \"$file is valid.\" || echo \"$file is invalid.\"`  construct displays one message or (||) the other in the terminal, depending on whther the JSON parsing by jq is successfull or not. Given it is not feasible to manually check the terminal for errors or printed JSON data when parsing files when automating workflows,  validity tests like this should be used to automate error detection and notify if something goes wrong.\n",
    "\n",
    "\n",
    "<sup>References: \n",
    "<br>[1] [StackExchange](https://unix.stackexchange.com/questions/581240/what-is-the-use-of-script-2-dev-null-in-the-following-script#:~:text=So%2C%202%3E%20%2Fdev%2F,link%20CC%20BY%2DSA%204.0)\n",
    "<br>[2] [jq Command JSON](https://www.baeldung.com/linux/jq-command-json)\n",
    "<br>[3] [jq man page](https://linuxcommandlibrary.com/man/jq)\n",
    "<br>[4] [What is /Dev/Null in Linux?](https://www.geeksforgeeks.org/what-is-dev-null-in-linux/)\n",
    "</sup>"
   ]
  },
  {
   "cell_type": "markdown",
   "metadata": {},
   "source": [
    "## Task 7"
   ]
  },
  {
   "cell_type": "markdown",
   "metadata": {},
   "source": [
    "1. Executed the `nano` command to create a new file named weather.sh. If the file existed in the current directory, it would be opened for editing, however as it doesn’t [a new file is created](https://ioflood.com/blog/nano-linux-command/#:~:text=To%20use%20the%20nano%20command,will%20create%20it%20for%20you.).\n",
    "1. Next, using [this article](https://ultahost.com/knowledge-base/create-bash-script/) as a guide, the file was edited with the below bash script:"
   ]
  },
  {
   "cell_type": "markdown",
   "metadata": {
    "vscode": {
     "languageId": "plaintext"
    }
   },
   "source": [
    "```bash\n",
    "# Shebang line that specifies the path to the interpreter that should be used to execute the script\n",
    "#!/bin/bash\n",
    "\n",
    "# Create variables for the output directory, log file, filename, path, and weather data URL\n",
    "output_dir=\"data/weather\"\n",
    "log_file=\"weather.log\" \n",
    "filename=\"$(date +%Y%m%d_%H%M%S).json\"\n",
    "output_file=\"$output_dir/$filename\"\n",
    "weather_url=\"https://prodapi.metweb.ie/observations/athenry/today\"\n",
    "\n",
    "# Function to send error notifications\n",
    "send_error_email() {\n",
    "    error_message=\"$1\"\n",
    "    python3 send_error_email.py \"$error_message\"\n",
    "}\n",
    "\n",
    "# Log the start of the download\n",
    "echo -e \"\\n--------------------------------------------------------------\" >> \"$log_file\"\n",
    "echo \"$(date) [INFO]: Fetching weather data from Met Eireann API endpoint\" >> \"$log_file\"\n",
    "\n",
    "# Fetch the weather data and save it with the timestamped filename\n",
    "if wget -O \"$output_file\" \"$weather_url\" >> \"$log_file\" 2>&1; then\n",
    "    echo \"$(date) [INFO]: Successfully downloaded $filename\" >> \"$log_file\"\n",
    "else\n",
    "    error_message=\"$(date) [ERROR]: Failed to download weather data from $weather_url. Check the URL or network connection.\"\n",
    "    echo \"$error_message\" >> \"$log_file\"\n",
    "    send_error_email \"$error_message\"\n",
    "    exit 1\n",
    "fi\n",
    "\n",
    "# Validate the JSON data and remove the newly created file if data isn't valid\n",
    "if jq . \"$output_file\" > /dev/null 2>&1; then\n",
    "    echo \"$(date) [INFO]: $filename is valid.\" >> \"$log_file\"\n",
    "    echo \"$filename is valid.\"\n",
    "else\n",
    "    error_message=\"$(date) [ERROR]: $filename is invalid. Removing file.\"\n",
    "    echo \"$error_message\" >> \"$log_file\"\n",
    "    rm -f \"$output_file\"\n",
    "    send_error_email \"$error_message\"\n",
    "    echo \"$filename is invalid.\"\n",
    "    exit 1\n",
    "fi\n",
    "``` "
   ]
  },
  {
   "cell_type": "markdown",
   "metadata": {},
   "source": [
    "3. The process from task 6 was slightly modified to include a log file and email notification whenever an error occurs.\n",
    "\n",
    "    **3.1 Log file**\n",
    "    \n",
    "    The log file can be [useful for troubleshooting and debugging](https://www.squash.io/ensuring-bash-scripts-continue-after-error-in-linux/). By logging errors, details about the error can be captured, such as the command that failed, the error message, and any relevant context -- information that can then be used to diagnose and fix the issue. Additionally, [severity levels were included in each log](https://betterstack.com/community/guides/logging/log-levels-explained/) to categorise entries based on their impact or urgency.\n",
    "\n",
    "    **3.2 Email notification**\n",
    "\n",
    "    The [email notification](https://mailtrap.io/blog/python-send-html-email/) is contained within a function that runs the `send_error_email.py` program, which is triggered everytime an error occurs. This Python script uses the native`smtp` (Simple Mail Transfer Protocol) and `email` modules that when combined provide the fundamental foundation for sending HTML emails directly from Python. \n",
    "\n",
    "    Since sensitive data like SMTP credentials (email and app password) should not be uploaded to GitHub, the following steps were taken to securely manage these constants:\n",
    "\n",
    "    - An App Password was created using my personal Google Account\n",
    "    - SMTP credential, were added as GitHub Secrets to securely store and manage them. These secrets are accessed as environment variables during the GitHub Actions workflow. \n",
    "    \n",
    "    _Note: I had initially created an `.env` file to store credentials, but have eliminated it to maintain compliance with security best practices._\n",
    "\n",
    "    [The MIMEText (Multipurpose Internet Mail Extensions) class](https://docs.python.org/3/library/email.mime.html) has also been added so that HTML and CSS can be combined with plain text. Specifically, it is used to construct a MIME (Multipurpose Internet Mail Extensions) email message which ensures the email body is encoded as plain text and includes the necessary headers for proper delivery.\n",
    "    \n",
    "4. To make the Bash script executable, the `chmod +x` command followed by the script name was ran. This command is used to [change the permissions of files and directories in linux](https://www.howtogeek.com/437958/how-to-use-the-chmod-command-on-linux/). As for the +x , it makes the file executable for all users, enabling us ou to run it as a script.\n",
    "\n",
    "1. As the final step, the script was ran using the command `./weather.sh`. The ./ notation tells the shell to execute the script in the current directory.\n",
    "\n",
    "<sup>Other References: \n",
    "<br>[1] [How to Write a Bash Script: A Simple Bash Scripting Tutorial](https://www.datacamp.com/tutorial/how-to-write-bash-script-tutorial)\n",
    "<br>[2] [A Step-by-Step Guide to Creating a Bash Script in Linux](https://nowitsanurag.medium.com/a-step-by-step-guide-to-creating-a-bash-script-in-linux-b2bc02e892d)\n",
    "<br>[3] [How to Create a Bash Script: Step-by-Step Guide](https://ultahost.com/knowledge-base/create-bash-script/)\n",
    "<br>[4] [StackOverflow](https://stackoverflow.com/questions/18460186/writing-outputs-to-log-file-and-console)\n",
    "<br>[5] [Log Monitoring and Analysis using Bash Script: Step-By-Step Guide\n",
    "](https://medium.com/@janmesh.js/log-monitoring-and-analysis-using-bash-script-step-by-step-guide-4d2a9ccb0bdf)\n",
    "<br>[6] [Log Levels Explained](https://betterstack.com/community/guides/logging/log-levels-explained/)\n",
    "<br>[7] [Sending Emails with Python Using the ‘smtplib’ Library](https://medium.com/@thakuravnish2313/sending-emails-with-python-using-the-smtplib-library-e5db3a8ce69a)\n",
    "</sup>"
   ]
  },
  {
   "cell_type": "markdown",
   "metadata": {},
   "source": [
    "## Task 9"
   ]
  },
  {
   "cell_type": "code",
   "execution_count": 34,
   "metadata": {},
   "outputs": [],
   "source": [
    "import pandas as pd\n",
    "import os\n",
    "import matplotlib.pyplot as plt\n",
    "\n",
    "%load_ext autoreload \n",
    "%autoreload"
   ]
  },
  {
   "cell_type": "code",
   "execution_count": 29,
   "metadata": {},
   "outputs": [
    {
     "name": "stdout",
     "output_type": "stream",
     "text": [
      "Available weather files: ['data/weather/20241214_202943.json', 'data/weather/weather.json', 'data/weather/20241214_203535.json', 'data/weather/20241213_233614.json', 'data/weather/20241215_001931.json', 'data/weather/20241214_101828.json', 'data/weather/20241214_203435.json', 'data/weather/20241214_203335.json', 'data/weather/20241214_183333.json', 'data/weather/20241214_202956.json', 'data/weather/20241214_202458.json']\n",
      "Largest file: data/weather/20241213_233614.json\n"
     ]
    }
   ],
   "source": [
    "# Set the path to the weather data directory & list the files in the directory\n",
    "weather_dir = \"data/weather\"\n",
    "weather_files = [os.path.join(weather_dir, f) for f in os.listdir(weather_dir)]\n",
    "\n",
    "# Get the largest file in the directory\n",
    "# https://www.turing.com/kb/how-to-get-the-size-of-file-in-python#making-use-of-os.path-module%E2%80%99s-getsize-function\n",
    "# https://docs.python.org/3/library/functions.html#max\n",
    "json_file = max(weather_files, key=os.path.getsize)\n",
    "print(\"Largest file:\", json_file)\n",
    "\n",
    "# Load the JSON data into a pandas DataFrame\n",
    "df = pd.read_json(json_file)"
   ]
  },
  {
   "cell_type": "code",
   "execution_count": 30,
   "metadata": {},
   "outputs": [
    {
     "name": "stdout",
     "output_type": "stream",
     "text": [
      "First few rows of the data:\n"
     ]
    },
    {
     "data": {
      "text/html": [
       "<div>\n",
       "<style scoped>\n",
       "    .dataframe tbody tr th:only-of-type {\n",
       "        vertical-align: middle;\n",
       "    }\n",
       "\n",
       "    .dataframe tbody tr th {\n",
       "        vertical-align: top;\n",
       "    }\n",
       "\n",
       "    .dataframe thead th {\n",
       "        text-align: right;\n",
       "    }\n",
       "</style>\n",
       "<table border=\"1\" class=\"dataframe\">\n",
       "  <thead>\n",
       "    <tr style=\"text-align: right;\">\n",
       "      <th></th>\n",
       "      <th>name</th>\n",
       "      <th>temperature</th>\n",
       "      <th>symbol</th>\n",
       "      <th>weatherDescription</th>\n",
       "      <th>text</th>\n",
       "      <th>windSpeed</th>\n",
       "      <th>windGust</th>\n",
       "      <th>cardinalWindDirection</th>\n",
       "      <th>windDirection</th>\n",
       "      <th>humidity</th>\n",
       "      <th>rainfall</th>\n",
       "      <th>pressure</th>\n",
       "      <th>dayName</th>\n",
       "      <th>date</th>\n",
       "      <th>reportTime</th>\n",
       "    </tr>\n",
       "  </thead>\n",
       "  <tbody>\n",
       "    <tr>\n",
       "      <th>0</th>\n",
       "      <td>Athenry</td>\n",
       "      <td>3</td>\n",
       "      <td>15n</td>\n",
       "      <td>Fog / Mist</td>\n",
       "      <td>\"Mist\"</td>\n",
       "      <td>9</td>\n",
       "      <td>-</td>\n",
       "      <td>E</td>\n",
       "      <td>90</td>\n",
       "      <td>92</td>\n",
       "      <td>0.0</td>\n",
       "      <td>1030</td>\n",
       "      <td>Friday</td>\n",
       "      <td>2024-12-13</td>\n",
       "      <td>00:00</td>\n",
       "    </tr>\n",
       "    <tr>\n",
       "      <th>1</th>\n",
       "      <td>Athenry</td>\n",
       "      <td>3</td>\n",
       "      <td>15n</td>\n",
       "      <td>Fog / Mist</td>\n",
       "      <td>\"Mist\"</td>\n",
       "      <td>6</td>\n",
       "      <td>-</td>\n",
       "      <td>E</td>\n",
       "      <td>90</td>\n",
       "      <td>92</td>\n",
       "      <td>0.0</td>\n",
       "      <td>1029</td>\n",
       "      <td>Friday</td>\n",
       "      <td>2024-12-13</td>\n",
       "      <td>01:00</td>\n",
       "    </tr>\n",
       "    <tr>\n",
       "      <th>2</th>\n",
       "      <td>Athenry</td>\n",
       "      <td>4</td>\n",
       "      <td>15n</td>\n",
       "      <td>Fog / Mist</td>\n",
       "      <td>\"Mist\"</td>\n",
       "      <td>6</td>\n",
       "      <td>-</td>\n",
       "      <td>E</td>\n",
       "      <td>90</td>\n",
       "      <td>91</td>\n",
       "      <td>0.0</td>\n",
       "      <td>1029</td>\n",
       "      <td>Friday</td>\n",
       "      <td>2024-12-13</td>\n",
       "      <td>02:00</td>\n",
       "    </tr>\n",
       "    <tr>\n",
       "      <th>3</th>\n",
       "      <td>Athenry</td>\n",
       "      <td>4</td>\n",
       "      <td>15n</td>\n",
       "      <td>Fog / Mist</td>\n",
       "      <td>\"Mist\"</td>\n",
       "      <td>7</td>\n",
       "      <td>-</td>\n",
       "      <td>E</td>\n",
       "      <td>90</td>\n",
       "      <td>89</td>\n",
       "      <td>0.0</td>\n",
       "      <td>1029</td>\n",
       "      <td>Friday</td>\n",
       "      <td>2024-12-13</td>\n",
       "      <td>03:00</td>\n",
       "    </tr>\n",
       "    <tr>\n",
       "      <th>4</th>\n",
       "      <td>Athenry</td>\n",
       "      <td>4</td>\n",
       "      <td>04n</td>\n",
       "      <td>Cloudy</td>\n",
       "      <td>\"Cloudy\"</td>\n",
       "      <td>4</td>\n",
       "      <td>-</td>\n",
       "      <td>E</td>\n",
       "      <td>90</td>\n",
       "      <td>91</td>\n",
       "      <td>0.0</td>\n",
       "      <td>1029</td>\n",
       "      <td>Friday</td>\n",
       "      <td>2024-12-13</td>\n",
       "      <td>04:00</td>\n",
       "    </tr>\n",
       "  </tbody>\n",
       "</table>\n",
       "</div>"
      ],
      "text/plain": [
       "      name  temperature symbol weatherDescription      text  windSpeed  \\\n",
       "0  Athenry            3    15n         Fog / Mist    \"Mist\"          9   \n",
       "1  Athenry            3    15n         Fog / Mist    \"Mist\"          6   \n",
       "2  Athenry            4    15n         Fog / Mist    \"Mist\"          6   \n",
       "3  Athenry            4    15n         Fog / Mist    \"Mist\"          7   \n",
       "4  Athenry            4    04n             Cloudy  \"Cloudy\"          4   \n",
       "\n",
       "  windGust cardinalWindDirection  windDirection  humidity  rainfall  pressure  \\\n",
       "0        -                     E             90        92       0.0      1030   \n",
       "1        -                     E             90        92       0.0      1029   \n",
       "2        -                     E             90        91       0.0      1029   \n",
       "3        -                     E             90        89       0.0      1029   \n",
       "4        -                     E             90        91       0.0      1029   \n",
       "\n",
       "  dayName       date reportTime  \n",
       "0  Friday 2024-12-13      00:00  \n",
       "1  Friday 2024-12-13      01:00  \n",
       "2  Friday 2024-12-13      02:00  \n",
       "3  Friday 2024-12-13      03:00  \n",
       "4  Friday 2024-12-13      04:00  "
      ]
     },
     "execution_count": 30,
     "metadata": {},
     "output_type": "execute_result"
    }
   ],
   "source": [
    "print(\"First few rows of the data:\")\n",
    "df.head()"
   ]
  },
  {
   "cell_type": "code",
   "execution_count": 31,
   "metadata": {},
   "outputs": [
    {
     "name": "stdout",
     "output_type": "stream",
     "text": [
      "\n",
      "Summary of the data:\n",
      "<class 'pandas.core.frame.DataFrame'>\n",
      "RangeIndex: 24 entries, 0 to 23\n",
      "Data columns (total 15 columns):\n",
      " #   Column                 Non-Null Count  Dtype         \n",
      "---  ------                 --------------  -----         \n",
      " 0   name                   24 non-null     object        \n",
      " 1   temperature            24 non-null     int64         \n",
      " 2   symbol                 24 non-null     object        \n",
      " 3   weatherDescription     24 non-null     object        \n",
      " 4   text                   24 non-null     object        \n",
      " 5   windSpeed              24 non-null     int64         \n",
      " 6   windGust               24 non-null     object        \n",
      " 7   cardinalWindDirection  24 non-null     object        \n",
      " 8   windDirection          24 non-null     int64         \n",
      " 9   humidity               24 non-null     int64         \n",
      " 10  rainfall               24 non-null     float64       \n",
      " 11  pressure               24 non-null     int64         \n",
      " 12  dayName                24 non-null     object        \n",
      " 13  date                   24 non-null     datetime64[ns]\n",
      " 14  reportTime             24 non-null     object        \n",
      "dtypes: datetime64[ns](1), float64(1), int64(5), object(8)\n",
      "memory usage: 2.9+ KB\n"
     ]
    }
   ],
   "source": [
    "print(\"\\nSummary of the data:\")\n",
    "df.info()"
   ]
  },
  {
   "cell_type": "code",
   "execution_count": 33,
   "metadata": {},
   "outputs": [
    {
     "name": "stdout",
     "output_type": "stream",
     "text": [
      "\n",
      "Descriptive stats:\n"
     ]
    },
    {
     "data": {
      "text/html": [
       "<div>\n",
       "<style scoped>\n",
       "    .dataframe tbody tr th:only-of-type {\n",
       "        vertical-align: middle;\n",
       "    }\n",
       "\n",
       "    .dataframe tbody tr th {\n",
       "        vertical-align: top;\n",
       "    }\n",
       "\n",
       "    .dataframe thead th {\n",
       "        text-align: right;\n",
       "    }\n",
       "</style>\n",
       "<table border=\"1\" class=\"dataframe\">\n",
       "  <thead>\n",
       "    <tr style=\"text-align: right;\">\n",
       "      <th></th>\n",
       "      <th>temperature</th>\n",
       "      <th>windSpeed</th>\n",
       "      <th>windDirection</th>\n",
       "      <th>humidity</th>\n",
       "      <th>rainfall</th>\n",
       "      <th>pressure</th>\n",
       "      <th>date</th>\n",
       "    </tr>\n",
       "  </thead>\n",
       "  <tbody>\n",
       "    <tr>\n",
       "      <th>count</th>\n",
       "      <td>24.000000</td>\n",
       "      <td>24.000000</td>\n",
       "      <td>24.000000</td>\n",
       "      <td>24.000000</td>\n",
       "      <td>24.000000</td>\n",
       "      <td>24.000000</td>\n",
       "      <td>24</td>\n",
       "    </tr>\n",
       "    <tr>\n",
       "      <th>mean</th>\n",
       "      <td>4.500000</td>\n",
       "      <td>5.666667</td>\n",
       "      <td>178.125000</td>\n",
       "      <td>91.791667</td>\n",
       "      <td>0.021250</td>\n",
       "      <td>1027.875000</td>\n",
       "      <td>2024-12-13 00:00:00</td>\n",
       "    </tr>\n",
       "    <tr>\n",
       "      <th>min</th>\n",
       "      <td>2.000000</td>\n",
       "      <td>2.000000</td>\n",
       "      <td>0.000000</td>\n",
       "      <td>87.000000</td>\n",
       "      <td>0.000000</td>\n",
       "      <td>1026.000000</td>\n",
       "      <td>2024-12-13 00:00:00</td>\n",
       "    </tr>\n",
       "    <tr>\n",
       "      <th>25%</th>\n",
       "      <td>4.000000</td>\n",
       "      <td>4.000000</td>\n",
       "      <td>90.000000</td>\n",
       "      <td>90.000000</td>\n",
       "      <td>0.000000</td>\n",
       "      <td>1027.000000</td>\n",
       "      <td>2024-12-13 00:00:00</td>\n",
       "    </tr>\n",
       "    <tr>\n",
       "      <th>50%</th>\n",
       "      <td>4.000000</td>\n",
       "      <td>6.000000</td>\n",
       "      <td>202.500000</td>\n",
       "      <td>91.500000</td>\n",
       "      <td>0.000000</td>\n",
       "      <td>1028.000000</td>\n",
       "      <td>2024-12-13 00:00:00</td>\n",
       "    </tr>\n",
       "    <tr>\n",
       "      <th>75%</th>\n",
       "      <td>6.000000</td>\n",
       "      <td>7.000000</td>\n",
       "      <td>270.000000</td>\n",
       "      <td>93.000000</td>\n",
       "      <td>0.000000</td>\n",
       "      <td>1029.000000</td>\n",
       "      <td>2024-12-13 00:00:00</td>\n",
       "    </tr>\n",
       "    <tr>\n",
       "      <th>max</th>\n",
       "      <td>6.000000</td>\n",
       "      <td>11.000000</td>\n",
       "      <td>315.000000</td>\n",
       "      <td>99.000000</td>\n",
       "      <td>0.400000</td>\n",
       "      <td>1030.000000</td>\n",
       "      <td>2024-12-13 00:00:00</td>\n",
       "    </tr>\n",
       "    <tr>\n",
       "      <th>std</th>\n",
       "      <td>1.215838</td>\n",
       "      <td>1.970801</td>\n",
       "      <td>95.209295</td>\n",
       "      <td>3.021361</td>\n",
       "      <td>0.083213</td>\n",
       "      <td>1.034723</td>\n",
       "      <td>NaN</td>\n",
       "    </tr>\n",
       "  </tbody>\n",
       "</table>\n",
       "</div>"
      ],
      "text/plain": [
       "       temperature  windSpeed  windDirection   humidity   rainfall  \\\n",
       "count    24.000000  24.000000      24.000000  24.000000  24.000000   \n",
       "mean      4.500000   5.666667     178.125000  91.791667   0.021250   \n",
       "min       2.000000   2.000000       0.000000  87.000000   0.000000   \n",
       "25%       4.000000   4.000000      90.000000  90.000000   0.000000   \n",
       "50%       4.000000   6.000000     202.500000  91.500000   0.000000   \n",
       "75%       6.000000   7.000000     270.000000  93.000000   0.000000   \n",
       "max       6.000000  11.000000     315.000000  99.000000   0.400000   \n",
       "std       1.215838   1.970801      95.209295   3.021361   0.083213   \n",
       "\n",
       "          pressure                 date  \n",
       "count    24.000000                   24  \n",
       "mean   1027.875000  2024-12-13 00:00:00  \n",
       "min    1026.000000  2024-12-13 00:00:00  \n",
       "25%    1027.000000  2024-12-13 00:00:00  \n",
       "50%    1028.000000  2024-12-13 00:00:00  \n",
       "75%    1029.000000  2024-12-13 00:00:00  \n",
       "max    1030.000000  2024-12-13 00:00:00  \n",
       "std       1.034723                  NaN  "
      ]
     },
     "execution_count": 33,
     "metadata": {},
     "output_type": "execute_result"
    }
   ],
   "source": [
    "print(\"\\nDescriptive stats:\")\n",
    "df.describe()"
   ]
  },
  {
   "cell_type": "code",
   "execution_count": 36,
   "metadata": {},
   "outputs": [
    {
     "data": {
      "image/png": "[encoded data removed]",
      "text/plain": [
       "<Figure size 640x480 with 1 Axes>"
      ]
     },
     "metadata": {},
     "output_type": "display_data"
    }
   ],
   "source": [
    "# Plot temperature\n",
    "df['temperature'].plot(title=\"Temperature over time\", ylabel=\"Temperature (°C)\")\n",
    "plt.show()"
   ]
  },
  {
   "cell_type": "markdown",
   "metadata": {},
   "source": [
    "---"
   ]
  },
  {
   "cell_type": "markdown",
   "metadata": {},
   "source": [
    "### End"
   ]
  }
 ],
 "metadata": {
  "kernelspec": {
   "display_name": "Python 3",
   "language": "python",
   "name": "python3"
  },
  "language_info": {
   "codemirror_mode": {
    "name": "ipython",
    "version": 3
   },
   "file_extension": ".py",
   "mimetype": "text/x-python",
   "name": "python",
   "nbconvert_exporter": "python",
   "pygments_lexer": "ipython3",
   "version": "3.12.1"
  }
 },
 "nbformat": 4,
 "nbformat_minor": 2
}
