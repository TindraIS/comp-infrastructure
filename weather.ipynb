{
 "cells": [
  {
   "cell_type": "markdown",
   "metadata": {},
   "source": [
    "# Execution notes"
   ]
  },
  {
   "cell_type": "markdown",
   "metadata": {},
   "source": [
    "## Task 1"
   ]
  },
  {
   "cell_type": "markdown",
   "metadata": {},
   "source": [
    "- Using Codespaces, I have navigated to **main** and with the `mkdir` command, created the directory _data_ and, after using `cd` command to navigate to the new directory, created the subdirectories _data/weather_ and _data/timestamps_.\n",
    "\n",
    "- As Git does not include empty directories in commits, a _.gitkeep_ file was created in each directory using the `touch` command, [to ensure Git would recognise them](https://www.theserverside.com/blog/Coffee-Talk-Java-News-Stories-and-Opinions/gitkeep-push-empty-folders-git-commit).\n",
    "\n",
    "- Also using the `touch` command the present file has been created.\n",
    "\n",
    "- The new changes where then commited and pushed to GitHub using the below commands:\n",
    "    - `git add .` to update the index \n",
    "    - `git commit -m` to [record changes](https://git-scm.com/docs/git-commit) to the repository with a log message describing the new contents.\n",
    "    - `git push` to [upload the changes](https://git-scm.com/docs/git-push) to GitHub."
   ]
  },
  {
   "cell_type": "markdown",
   "metadata": {},
   "source": [
    "## Task 2"
   ]
  },
  {
   "cell_type": "markdown",
   "metadata": {},
   "source": [
    "- Using Codespaces, I have navigated to the data/timestamps directory using the `cd` command in the terminal. \n",
    "\n",
    "- Created now.txt and appended the current date and time using the date >> now.tx command.\n",
    "\n",
    "- Repeated the above command ten more times with a [_for loop_](https://www.tecmint.com/run-linux-command-multiple-times/): `for counter in {1..10}; do date >> now.txt; done`\n",
    "\n",
    "- Used the `more` command to verify that now.txt had the [expected content](https://www.baeldung.com/linux/files-cat-more-less)."
   ]
  },
  {
   "cell_type": "markdown",
   "metadata": {},
   "source": [
    "## Task 3"
   ]
  },
  {
   "cell_type": "markdown",
   "metadata": {},
   "source": [
    "- Ran the `date` command with the [YYYmmdd_HHMMSS format](https://www.cyberciti.biz/faq/linux-unix-formatting-dates-for-display/): `date +\"%Y%m%d_%H%M%S\"`\n",
    "\n",
    "- Appended the above output to a file named formatted.txt using the `>>` [operator](https://www.cyberciti.biz/faq/linux-append-text-to-end-of-file/)\n",
    "\n",
    "- Verified the file content with the `cat` command: `cat formatted.txt`"
   ]
  },
  {
   "cell_type": "markdown",
   "metadata": {},
   "source": [
    "## Task 4"
   ]
  },
  {
   "cell_type": "markdown",
   "metadata": {},
   "source": [
    "- A new file was created using the `touch` and ` date` commands: **touch &#96;date +\"%Y%m%d_%H%M%S.txt\"&#96;**\n",
    "As the date command is in backticks, [the output is stored in a variable](https://linuxopsys.com/bash-backticks-vs-dollar-parentheses) which means the backticks the second command's action depends upon the first one.\n",
    "\n",
    "- Used the `ls -Artls | tail -1` command to [verify the file had been created and that the time stamp was correct](https://www.baeldung.com/linux/get-recent-file-in-directory).b"
   ]
  },
  {
   "cell_type": "markdown",
   "metadata": {},
   "source": [
    "## Task 5"
   ]
  },
  {
   "cell_type": "markdown",
   "metadata": {},
   "source": [
    "- Ensure we are in the correct directory with the `cd data/weather` command.\n",
    "\n",
    "- Then used `wget -O weather.json https://prodapi.metweb.ie/observations/athenry/today` to save the output in a file. This command is used to [download content from the world wide web (hence the command name)](https://www.geeksforgeeks.org/wget-command-in-linux-unix/) and its synthax supports several options. The -O option was used to specify the filename, as the default name is the last part of the URL.\n",
    "\n",
    "- To confirm that the content of the saved file matches exactly the data fetched from Met Éireann's API endpoint, the following command was used: ` curl -s https://prodapi.metweb.ie/observations/athenry/today | diff - weather.json`. \n",
    "    - `curl` is used for transferring data from the URLs combined with -s option to switch off the progress meter output and only show the actual data retrieved.\n",
    "    - The `|` takes the output from the curl command and feeds it as input into the diff command.\n",
    "    - The `diff` command compares two outputs and shows the differences - if any. Using a dash (-) in place of a filename tells diff to read the data piped in from curl.\n",
    "\n",
    "<sup>References: \n",
    "<br>[1] [Comparing Files and Folders in Linux using diff command](https://medium.com/itversity/comparing-files-and-folders-in-linux-using-diff-command-c2177fd80852) \n",
    "<br>[2] [Unix and Linux StackExchange](https://unix.stackexchange.com/questions/11733/how-to-diff-a-file-and-output-from-the-command)\n",
    "<br>[3] [cURL man page](https://curl.se/docs/manpage.html)\n",
    "<br>[4] [diff Command in Linux](https://phoenixnap.com/kb/linux-diff)\n",
    "<br>[5] [ExplainShell](https://explainshell.com/explain/1/curl)\n",
    "</sup>"
   ]
  },
  {
   "cell_type": "markdown",
   "metadata": {},
   "source": [
    "## Task 6"
   ]
  },
  {
   "cell_type": "markdown",
   "metadata": {},
   "source": [
    "- In order to save the downloaded file from task 5 with a timestamped name in the format YYYYmmdd_HHMMSS.json, the following command was used: **wget -O &#96;date +\"%Y%m%d_%H%M%S.json\"&#96; https://prodapi.metweb.ie/observations/athenry/today**\n",
    "\n",
    "- The `ls` command was executed to list the files and retrieve the timestamped filename. The following command was then used to verify if the file contained valid JSON data with the `file=\"20241213_233614.json\" && jq . \"$file\" > /dev/null && echo \"$file is valid.\" || echo \"$file is invalid.\"`:\n",
    "    - `jq` allows to parse, filter, and transform JSON data and the `.` option takes the input and produces it unchanged as the output.\n",
    "    - The `> /dev/null` command ensures the JSON file isn't displayed in the terminal.\n",
    "    - The `&& echo \"$file is valid.\" || echo \"$file is invalid.\"`  construct displays one message or (||) the other in the terminal, depending on whther the JSON parsing by jq is successfull or not. Given it is not feasible to manually check the terminal for errors or printed JSON data when parsing files when automating workflows,  validity tests like this should be used to automate error detection and notify if something goes wrong.\n",
    "\n",
    "\n",
    "<sup>References: \n",
    "<br>[StackExchange](https://unix.stackexchange.com/questions/581240/what-is-the-use-of-script-2-dev-null-in-the-following-script#:~:text=So%2C%202%3E%20%2Fdev%2F,link%20CC%20BY%2DSA%204.0)\n",
    "<br>[jq Command JSON](https://www.baeldung.com/linux/jq-command-json)\n",
    "<br>[jq man page](https://linuxcommandlibrary.com/man/jq)\n",
    "<br>[What is /Dev/Null in Linux?](https://www.geeksforgeeks.org/what-is-dev-null-in-linux/)\n",
    "</sup>"
   ]
  },
  {
   "cell_type": "markdown",
   "metadata": {},
   "source": [
    "## Task 7"
   ]
  },
  {
   "cell_type": "markdown",
   "metadata": {},
   "source": [
    "- Executed the `nano` command to create a new file named weather.sh. If the file existed in the current directory, it would be opened for editing, however as it doesn’t [a new file is created](https://ioflood.com/blog/nano-linux-command/#:~:text=To%20use%20the%20nano%20command,will%20create%20it%20for%20you.).\n",
    "- Next, using [this article](https://ultahost.com/knowledge-base/create-bash-script/) as a guide, the file was edited with the below bash script:"
   ]
  },
  {
   "cell_type": "markdown",
   "metadata": {
    "vscode": {
     "languageId": "plaintext"
    }
   },
   "source": [
    "```bash\n",
    "# Shebang line that specifies the path to the interpreter that should be used to execute the script\n",
    "#!/bin/bash\n",
    "\n",
    "# Set the output directory\n",
    "output_dir=\"data/weather\"\n",
    "\n",
    "# Create the directory if it doesn't exist\n",
    "mkdir -p \"$output_dir\"\n",
    "\n",
    "# Create variables for the filename, path, and weather data URL \n",
    "file_name=\"$(date +%Y%m%d_%H%M%S).json\"\n",
    "output_file=\"$output_dir/$file_name\"\n",
    "weather_url=\"https://prodapi.metweb.ie/observations/athenry/today\"\n",
    "\n",
    "# Download the weather data and save it with the timestamped filename\n",
    "wget -O \"$output_file\" \"$weather_url\"\n",
    "\n",
    "# Data validation\n",
    "if jq . \"$output_file\" > /dev/null 2>&1; then\n",
    "    echo \"$file_name is valid.\"\n",
    "else\n",
    "    echo \"$file_name is invalid.\"\n",
    "    # Remove the invalid file and display message\n",
    "    rm -f \"$output_file\"\n",
    "    echo \"Invalid file removed.\"\n",
    "fi\n",
    "``` "
   ]
  },
  {
   "cell_type": "markdown",
   "metadata": {},
   "source": [
    "<sup>References: \n",
    "<br>[How to Write a Bash Script: A Simple Bash Scripting Tutorial](https://www.datacamp.com/tutorial/how-to-write-bash-script-tutorial)\n",
    "<br>[A Step-by-Step Guide to Creating a Bash Script in Linux](https://nowitsanurag.medium.com/a-step-by-step-guide-to-creating-a-bash-script-in-linux-b2bc02e892d)\n",
    "<br>[How to Create a Bash Script: Step-by-Step Guide](https://ultahost.com/knowledge-base/create-bash-script/)\n",
    "</sup>"
   ]
  },
  {
   "cell_type": "markdown",
   "metadata": {},
   "source": [
    "---"
   ]
  },
  {
   "cell_type": "markdown",
   "metadata": {},
   "source": [
    "### End"
   ]
  }
 ],
 "metadata": {
  "language_info": {
   "name": "python"
  }
 },
 "nbformat": 4,
 "nbformat_minor": 2
}
